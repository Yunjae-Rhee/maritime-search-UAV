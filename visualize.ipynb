{
 "cells": [
  {
   "cell_type": "code",
   "execution_count": null,
   "id": "5af06398",
   "metadata": {},
   "outputs": [
    {
     "ename": "ModuleNotFoundError",
     "evalue": "No module named 'shapely'",
     "output_type": "error",
     "traceback": [
      "\u001b[31m---------------------------------------------------------------------------\u001b[39m",
      "\u001b[31mModuleNotFoundError\u001b[39m                       Traceback (most recent call last)",
      "\u001b[36mCell\u001b[39m\u001b[36m \u001b[39m\u001b[32mIn[1]\u001b[39m\u001b[32m, line 1\u001b[39m\n\u001b[32m----> \u001b[39m\u001b[32m1\u001b[39m \u001b[38;5;28;01mfrom\u001b[39;00m\u001b[38;5;250m \u001b[39m\u001b[34;01mshapely\u001b[39;00m\u001b[34;01m.\u001b[39;00m\u001b[34;01mgeometry\u001b[39;00m\u001b[38;5;250m \u001b[39m\u001b[38;5;28;01mimport\u001b[39;00m MultiPoint, Polygon, LineString\n",
      "\u001b[31mModuleNotFoundError\u001b[39m: No module named 'shapely'"
     ]
    }
   ],
   "source": [
    "import os\n",
    "import re\n",
    "import matplotlib.pyplot as plt\n",
    "from shapely.geometry import Polygon\n",
    "from matplotlib.cm import get_cmap"
   ]
  },
  {
   "cell_type": "code",
   "execution_count": null,
   "id": "32f8a0c2",
   "metadata": {},
   "outputs": [],
   "source": [
    "def load_polygon_from_txt(txt_path):\n",
    "    coords = []\n",
    "    with open(txt_path, \"r\", encoding=\"utf-8\") as f:\n",
    "        for line in f:\n",
    "            line = line.strip()\n",
    "            if not line or line.startswith(\"Polygon exterior\"):\n",
    "                continue  # 헤더 스킵\n",
    "            try:\n",
    "                lon, lat = map(float, line.split(\",\"))\n",
    "                coords.append((lon, lat))\n",
    "            except ValueError:\n",
    "                continue  # 잘못된 줄은 무시\n",
    "    if len(coords) >= 3:\n",
    "        return Polygon(coords)\n",
    "    else:\n",
    "        return None  # 유효한 다각형 아님\n",
    "    \n",
    "\n",
    "def draw_all_polygons(directory=\".\"):\n",
    "    # 폴리곤 파일 목록 가져오기\n",
    "    polygon_files = sorted(\n",
    "        [f for f in os.listdir(directory) if re.match(r\"^polygon\\d+\\.txt$\", f)],\n",
    "        key=lambda x: int(re.search(r\"\\d+\", x).group())\n",
    "    )\n",
    "\n",
    "    cmap = get_cmap(\"hsv\", len(polygon_files))  # 무지개 색상 (HSV colormap)\n",
    "\n",
    "    plt.figure(figsize=(10, 8))\n",
    "    ax = plt.gca()\n",
    "    for i, fname in enumerate(polygon_files):\n",
    "        poly = load_polygon_from_txt(os.path.join(directory, fname))\n",
    "        if poly is None:\n",
    "            continue\n",
    "        x, y = poly.exterior.xy\n",
    "        ax.fill(x, y, alpha=0.4, label=f\"{fname}\", color=cmap(i))\n",
    "\n",
    "    ax.set_aspect(\"equal\")\n",
    "    plt.xlabel(\"Longitude\")\n",
    "    plt.ylabel(\"Latitude\")\n",
    "    plt.title(\"All Saved Polygons\")\n",
    "    plt.legend()\n",
    "    plt.grid(True)\n",
    "    plt.show()\n"
   ]
  },
  {
   "cell_type": "markdown",
   "id": "9a4dd763",
   "metadata": {},
   "source": [
    "개선 사항:\n",
    "- 지도 표시(좌표가 맞아야됨)\n",
    "- 하나씩 그려서 얹기(레이어 선택)\n",
    "- 확률도 히트맵으로 그리기\n",
    "\n",
    "(가능하면) 현재 위치도 표시"
   ]
  },
  {
   "cell_type": "code",
   "execution_count": null,
   "id": "43742113",
   "metadata": {},
   "outputs": [],
   "source": [
    "draw_all_polygons(\".\")"
   ]
  }
 ],
 "metadata": {
  "kernelspec": {
   "display_name": "Python 3",
   "language": "python",
   "name": "python3"
  },
  "language_info": {
   "codemirror_mode": {
    "name": "ipython",
    "version": 3
   },
   "file_extension": ".py",
   "mimetype": "text/x-python",
   "name": "python",
   "nbconvert_exporter": "python",
   "pygments_lexer": "ipython3",
   "version": "3.13.5"
  }
 },
 "nbformat": 4,
 "nbformat_minor": 5
}
